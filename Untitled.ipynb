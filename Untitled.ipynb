{
 "cells": [
  {
   "cell_type": "code",
   "execution_count": 1,
   "id": "24d49aa4",
   "metadata": {},
   "outputs": [
    {
     "name": "stdout",
     "output_type": "stream",
     "text": [
      "(100,)\n",
      "(100,)\n"
     ]
    }
   ],
   "source": [
    "import statsmodels.api as sm\n",
    "import numpy as np\n",
    "from scipy import stats\n",
    "import statsmodels.api as sm\n",
    "from statsmodels.sandbox.regression.predstd import wls_prediction_std\n",
    "\n",
    "#Significance level:\n",
    "sl = 0.05\n",
    "#Evaluate mean value at a required point x0. Here, at the point (0.0,2.0) for N_model=2:\n",
    "x0 = np.asarray([1.0, 0.0, 2.0])# If you have no constant in your model, remove the first 1.0. For more dimensions, add the desired values.\n",
    "n = 100\n",
    "\n",
    "x = np.linspace(0, 10, n)\n",
    "e = np.random.normal(size=n)\n",
    "y = 1 + 0.5*x + 2*e\n",
    "X = sm.add_constant(x)\n",
    "\n",
    "re = sm.OLS(y,X).fit()\n",
    "#print(re.summary())\n",
    "print(x.shape)\n",
    "print(y.shape)"
   ]
  },
  {
   "cell_type": "code",
   "execution_count": 2,
   "id": "27d3eb8d",
   "metadata": {},
   "outputs": [
    {
     "name": "stdout",
     "output_type": "stream",
     "text": [
      "(100, 12)\n",
      "[[ 1.00000000e+00  4.43723060e-01  5.07943944e-01 ...  1.88592284e+00\n",
      "  -3.40527634e-02  2.37846370e-05]\n",
      " [ 2.00000000e+00 -1.95754684e-01  5.65402201e-01 ...  1.88707702e+00\n",
      "  -4.03352316e-01  3.23347938e-03]\n",
      " [ 3.00000000e+00  2.37722317e-01  6.22860458e-01 ...  1.88820695e+00\n",
      "  -2.03970301e-01  8.00987088e-04]\n",
      " ...\n",
      " [ 9.80000000e+01  9.10015123e+00  6.08139487e+00 ...  1.88820695e+00\n",
      "   1.59874232e+00  4.92094579e-02]\n",
      " [ 9.90000000e+01  9.58161474e+00  6.13885313e+00 ...  1.88707702e+00\n",
      "   1.82438850e+00  6.61508820e-02]\n",
      " [ 1.00000000e+02  7.25606222e+00  6.19631139e+00 ...  1.88592284e+00\n",
      "   5.61926929e-01  6.47666592e-03]]\n"
     ]
    }
   ],
   "source": [
    "from statsmodels.stats.outliers_influence import summary_table\n",
    "import numpy as np\n",
    "import matplotlib.pyplot as plt\n",
    "\n",
    "st, data, ss2 = summary_table(re, alpha=0.05)\n",
    "print(data.shape)\n",
    "print(data)"
   ]
  },
  {
   "cell_type": "code",
   "execution_count": 3,
   "id": "979d77d5",
   "metadata": {},
   "outputs": [],
   "source": [
    "fittedvalues = data[:, 2]\n",
    "predict_mean_se  = data[:, 3]\n",
    "predict_mean_ci_low, predict_mean_ci_upp = data[:, 4:6].T\n",
    "predict_ci_low, predict_ci_upp = data[:, 6:8].T\n",
    "\n",
    "# Check we got the right things\n",
    "#print np.max(np.abs(re.fittedvalues - fittedvalues))\n",
    "#print np.max(np.abs(iv_l - predict_ci_low))\n",
    "#print np.max(np.abs(iv_u - predict_ci_upp))"
   ]
  },
  {
   "cell_type": "code",
   "execution_count": 4,
   "id": "797bb33c",
   "metadata": {
    "scrolled": true
   },
   "outputs": [
    {
     "name": "stdout",
     "output_type": "stream",
     "text": [
      "=====================================================================================================================================\n",
      "       Obs    Dep Var  Predicted    Std Error    Mean ci    Mean ci Predict ci Predict ci   Residual  Std Error    Student     Cook's\n",
      "           Population      Value Mean Predict    95% low    95% upp    95% low    95% upp              Residual   Residual          D\n",
      "-------------------------------------------------------------------------------------------------------------------------------------\n",
      "         1      0.444      0.508        0.382     -0.250      1.266     -3.385      4.401     -0.064      1.886     -0.034      0.000\n",
      "         2     -0.196      0.565        0.376     -0.181      1.312     -3.325      4.456     -0.761      1.887     -0.403      0.003\n",
      "         3      0.238      0.623        0.371     -0.112      1.358     -3.266      4.512     -0.385      1.888     -0.204      0.001\n",
      "         4      0.881      0.680        0.365     -0.044      1.404     -3.206      4.567      0.201      1.889      0.106      0.000\n",
      "         5     -1.294      0.738        0.359      0.025      1.451     -3.147      4.622     -2.032      1.890     -1.075      0.021\n",
      "         6      0.740      0.795        0.354      0.094      1.497     -3.087      4.678     -0.055      1.891     -0.029      0.000\n",
      "         7      2.186      0.853        0.348      0.162      1.543     -3.028      4.733      1.333      1.892      0.704      0.008\n",
      "         8      1.280      0.910        0.342      0.231      1.590     -2.968      4.789      0.370      1.893      0.195      0.001\n",
      "         9      0.120      0.968        0.337      0.299      1.636     -2.909      4.844     -0.847      1.894     -0.447      0.003\n",
      "        10      2.857      1.025        0.332      0.367      1.683     -2.850      4.900      1.832      1.895      0.967      0.014\n",
      "        11      2.702      1.083        0.326      0.435      1.730     -2.790      4.956      1.619      1.896      0.854      0.011\n",
      "        12      0.752      1.140        0.321      0.503      1.777     -2.731      5.011     -0.388      1.897     -0.204      0.001\n",
      "        13      0.177      1.197        0.315      0.571      1.823     -2.672      5.067     -1.021      1.898     -0.538      0.004\n",
      "        14     -1.533      1.255        0.310      0.639      1.870     -2.613      5.123     -2.787      1.899     -1.468      0.029\n",
      "        15      5.393      1.312        0.305      0.707      1.918     -2.554      5.179      4.081      1.900      2.148      0.059\n",
      "        16      1.106      1.370        0.300      0.775      1.965     -2.495      5.234     -0.264      1.901     -0.139      0.000\n",
      "        17      0.355      1.427        0.295      0.842      2.012     -2.436      5.290     -1.073      1.902     -0.564      0.004\n",
      "        18      0.226      1.485        0.290      0.910      2.060     -2.377      5.346     -1.259      1.902     -0.662      0.005\n",
      "        19      0.317      1.542        0.285      0.977      2.107     -2.318      5.402     -1.225      1.903     -0.644      0.005\n",
      "        20      0.756      1.600        0.280      1.044      2.155     -2.259      5.458     -0.844      1.904     -0.443      0.002\n",
      "        21      3.030      1.657        0.275      1.111      2.203     -2.200      5.514      1.373      1.904      0.721      0.005\n",
      "        22      1.314      1.715        0.270      1.178      2.251     -2.141      5.571     -0.400      1.905     -0.210      0.000\n",
      "        23      4.494      1.772        0.266      1.245      2.299     -2.083      5.627      2.722      1.906      1.429      0.020\n",
      "        24      3.520      1.829        0.261      1.311      2.348     -2.024      5.683      1.691      1.906      0.887      0.007\n",
      "        25      1.597      1.887        0.257      1.377      2.396     -1.965      5.739     -0.290      1.907     -0.152      0.000\n",
      "        26      0.329      1.944        0.252      1.444      2.445     -1.907      5.796     -1.616      1.908     -0.847      0.006\n",
      "        27      3.176      2.002        0.248      1.509      2.494     -1.848      5.852      1.174      1.908      0.615      0.003\n",
      "        28      1.452      2.059        0.244      1.575      2.543     -1.790      5.908     -0.607      1.909     -0.318      0.001\n",
      "        29      3.645      2.117        0.240      1.641      2.593     -1.731      5.965      1.528      1.909      0.800      0.005\n",
      "        30      3.460      2.174        0.236      1.706      2.643     -1.673      6.021      1.286      1.910      0.674      0.003\n",
      "        31      3.545      2.232        0.232      1.771      2.693     -1.615      6.078      1.314      1.910      0.688      0.003\n",
      "        32      1.983      2.289        0.229      1.836      2.743     -1.556      6.135     -0.306      1.911     -0.160      0.000\n",
      "        33      0.622      2.347        0.225      1.900      2.793     -1.498      6.191     -1.724      1.911     -0.902      0.006\n",
      "        34      2.470      2.404        0.222      1.964      2.844     -1.440      6.248      0.066      1.911      0.035      0.000\n",
      "        35      2.152      2.462        0.218      2.028      2.895     -1.382      6.305     -0.309      1.912     -0.162      0.000\n",
      "        36      3.372      2.519        0.215      2.092      2.946     -1.323      6.361      0.853      1.912      0.446      0.001\n",
      "        37      2.230      2.576        0.212      2.155      2.998     -1.265      6.418     -0.347      1.912     -0.181      0.000\n",
      "        38      2.444      2.634        0.210      2.218      3.050     -1.207      6.475     -0.190      1.913     -0.099      0.000\n",
      "        39      3.085      2.691        0.207      2.280      3.102     -1.149      6.532      0.394      1.913      0.206      0.000\n",
      "        40      0.919      2.749        0.205      2.342      3.155     -1.091      6.589     -1.830      1.913     -0.956      0.005\n",
      "        41      4.150      2.806        0.203      2.404      3.208     -1.033      6.646      1.343      1.914      0.702      0.003\n",
      "        42      3.071      2.864        0.201      2.466      3.262     -0.976      6.703      0.208      1.914      0.108      0.000\n",
      "        43      5.247      2.921        0.199      2.527      3.316     -0.918      6.760      2.326      1.914      1.215      0.008\n",
      "        44      6.723      2.979        0.197      2.587      3.370     -0.860      6.817      3.745      1.914      1.956      0.020\n",
      "        45      0.955      3.036        0.196      2.647      3.425     -0.802      6.874     -2.081      1.914     -1.087      0.006\n",
      "        46      0.058      3.094        0.195      2.707      3.480     -0.744      6.932     -3.035      1.914     -1.586      0.013\n",
      "        47      3.896      3.151        0.194      2.766      3.536     -0.687      6.989      0.745      1.914      0.389      0.001\n",
      "        48      1.229      3.208        0.193      2.825      3.592     -0.629      7.046     -1.979      1.914     -1.034      0.005\n",
      "        49     -0.211      3.266        0.193      2.884      3.648     -0.572      7.104     -3.477      1.915     -1.816      0.017\n",
      "        50      3.176      3.323        0.192      2.941      3.705     -0.514      7.161     -0.148      1.915     -0.077      0.000\n",
      "        51      6.218      3.381        0.192      2.999      3.763     -0.457      7.218      2.837      1.915      1.482      0.011\n",
      "        52      5.742      3.438        0.193      3.056      3.821     -0.399      7.276      2.304      1.915      1.203      0.007\n",
      "        53      4.164      3.496        0.193      3.112      3.879     -0.342      7.334      0.668      1.914      0.349      0.001\n",
      "        54      3.200      3.553        0.194      3.169      3.938     -0.285      7.391     -0.354      1.914     -0.185      0.000\n",
      "        55      1.143      3.611        0.195      3.224      3.997     -0.227      7.449     -2.468      1.914     -1.289      0.009\n",
      "        56      7.200      3.668        0.196      3.279      4.057     -0.170      7.506      3.532      1.914      1.845      0.018\n",
      "        57      3.275      3.726        0.197      3.334      4.117     -0.113      7.564     -0.451      1.914     -0.235      0.000\n",
      "        58      2.320      3.783        0.199      3.389      4.178     -0.056      7.622     -1.463      1.914     -0.764      0.003\n",
      "        59      5.697      3.841        0.201      3.442      4.239      0.001      7.680      1.856      1.914      0.970      0.005\n",
      "        60      2.462      3.898        0.203      3.496      4.300      0.058      7.738     -1.436      1.914     -0.751      0.003\n",
      "        61      2.585      3.955        0.205      3.549      4.362      0.115      7.796     -1.371      1.913     -0.716      0.003\n",
      "        62      2.334      4.013        0.207      3.602      4.424      0.172      7.854     -1.679      1.913     -0.878      0.005\n",
      "        63      5.634      4.070        0.210      3.654      4.486      0.229      7.912      1.563      1.913      0.817      0.004\n",
      "        64      4.304      4.128        0.212      3.706      4.549      0.286      7.970      0.176      1.912      0.092      0.000\n",
      "        65      5.163      4.185        0.215      3.758      4.613      0.343      8.028      0.977      1.912      0.511      0.002\n",
      "        66      1.721      4.243        0.218      3.809      4.676      0.400      8.086     -2.522      1.912     -1.319      0.011\n",
      "        67      4.415      4.300        0.222      3.860      4.740      0.456      8.144      0.115      1.911      0.060      0.000\n",
      "        68      4.297      4.358        0.225      3.911      4.804      0.513      8.202     -0.060      1.911     -0.032      0.000\n",
      "        69      3.007      4.415        0.229      3.962      4.869      0.570      8.260     -1.409      1.911     -0.737      0.004\n",
      "        70      2.801      4.473        0.232      4.012      4.933      0.626      8.319     -1.672      1.910     -0.875      0.006\n",
      "        71      6.501      4.530        0.236      4.062      4.998      0.683      8.377      1.971      1.910      1.032      0.008\n",
      "        72      6.663      4.587        0.240      4.111      5.064      0.739      8.436      2.076      1.909      1.087      0.009\n",
      "        73      4.137      4.645        0.244      4.161      5.129      0.796      8.494     -0.508      1.909     -0.266      0.001\n",
      "        74      5.907      4.702        0.248      4.210      5.195      0.852      8.553      1.204      1.908      0.631      0.003\n",
      "        75      7.994      4.760        0.252      4.259      5.261      0.909      8.611      3.235      1.908      1.696      0.025\n",
      "        76      5.211      4.817        0.257      4.308      5.327      0.965      8.670      0.394      1.907      0.207      0.000\n",
      "        77      1.402      4.875        0.261      4.356      5.393      1.021      8.728     -3.472      1.906     -1.821      0.031\n",
      "        78      1.284      4.932        0.266      4.405      5.460      1.077      8.787     -3.648      1.906     -1.914      0.036\n",
      "        79      0.861      4.990        0.270      4.453      5.526      1.134      8.846     -4.129      1.905     -2.167      0.047\n",
      "        80      8.701      5.047        0.275      4.501      5.593      1.190      8.905      3.654      1.904      1.918      0.038\n",
      "        81      7.855      5.105        0.280      4.549      5.660      1.246      8.963      2.751      1.904      1.445      0.023\n",
      "        82      2.300      5.162        0.285      4.597      5.727      1.302      9.022     -2.863      1.903     -1.504      0.025\n",
      "        83      6.453      5.220        0.290      4.644      5.795      1.358      9.081      1.233      1.902      0.648      0.005\n",
      "        84      1.003      5.277        0.295      4.692      5.862      1.414      9.140     -4.274      1.902     -2.248      0.061\n",
      "        85      4.637      5.334        0.300      4.739      5.929      1.470      9.199     -0.697      1.901     -0.367      0.002\n",
      "        86      3.082      5.392        0.305      4.787      5.997      1.526      9.258     -2.310      1.900     -1.216      0.019\n",
      "        87      2.137      5.449        0.310      4.834      6.065      1.582      9.317     -3.312      1.899     -1.744      0.041\n",
      "        88      8.051      5.507        0.315      4.881      6.133      1.637      9.376      2.544      1.898      1.340      0.025\n",
      "        89      2.596      5.564        0.321      4.928      6.201      1.693      9.436     -2.968      1.897     -1.564      0.035\n",
      "        90      7.227      5.622        0.326      4.975      6.269      1.749      9.495      1.605      1.896      0.846      0.011\n",
      "        91      5.718      5.679        0.332      5.021      6.337      1.804      9.554      0.039      1.895      0.020      0.000\n",
      "        92      8.332      5.737        0.337      5.068      6.405      1.860      9.613      2.595      1.894      1.370      0.030\n",
      "        93      4.811      5.794        0.342      5.114      6.474      1.916      9.673     -0.983      1.893     -0.519      0.004\n",
      "        94      6.750      5.852        0.348      5.161      6.542      1.971      9.732      0.899      1.892      0.475      0.004\n",
      "        95      6.086      5.909        0.354      5.207      6.611      2.027      9.791      0.177      1.891      0.094      0.000\n",
      "        96      5.959      5.966        0.359      5.254      6.679      2.082      9.851     -0.008      1.890     -0.004      0.000\n",
      "        97      5.293      6.024        0.365      5.300      6.748      2.137      9.911     -0.731      1.889     -0.387      0.003\n",
      "        98      9.100      6.081        0.371      5.346      6.817      2.193      9.970      3.019      1.888      1.599      0.049\n",
      "        99      9.582      6.139        0.376      5.392      6.885      2.248     10.030      3.443      1.887      1.824      0.066\n",
      "       100      7.256      6.196        0.382      5.438      6.954      2.303     10.089      1.060      1.886      0.562      0.006\n",
      "=====================================================================================================================================\n"
     ]
    }
   ],
   "source": [
    "print(st)"
   ]
  },
  {
   "cell_type": "code",
   "execution_count": 5,
   "id": "de00494f",
   "metadata": {},
   "outputs": [
    {
     "data": {
      "image/png": "[encoded data removed]",
      "text/plain": [
       "<Figure size 432x288 with 1 Axes>"
      ]
     },
     "metadata": {
      "needs_background": "light"
     },
     "output_type": "display_data"
    }
   ],
   "source": [
    "plt.plot(x, y, 'o')\n",
    "plt.plot(x, fittedvalues, '-', lw=2)\n",
    "plt.plot(x, predict_ci_low, 'r--', lw=2)\n",
    "plt.plot(x, predict_ci_upp, 'r--', lw=2)\n",
    "plt.plot(x, predict_mean_ci_low, 'r--', lw=2)\n",
    "plt.plot(x, predict_mean_ci_upp, 'r--', lw=2)\n",
    "plt.show()"
   ]
  },
  {
   "cell_type": "code",
   "execution_count": 6,
   "id": "b8000e65",
   "metadata": {},
   "outputs": [
    {
     "ename": "NameError",
     "evalue": "name 'train' is not defined",
     "output_type": "error",
     "traceback": [
      "\u001b[0;31m---------------------------------------------------------------------------\u001b[0m",
      "\u001b[0;31mNameError\u001b[0m                                 Traceback (most recent call last)",
      "\u001b[0;32m/var/folders/49/mxg1tghn043czqmz572bynpc0000gp/T/ipykernel_88597/2305976317.py\u001b[0m in \u001b[0;36m<module>\u001b[0;34m\u001b[0m\n\u001b[1;32m      4\u001b[0m \u001b[0;34m\u001b[0m\u001b[0m\n\u001b[1;32m      5\u001b[0m \u001b[0;31m# Seasonal Arima Modeling, no exogenous variable\u001b[0m\u001b[0;34m\u001b[0m\u001b[0;34m\u001b[0m\u001b[0m\n\u001b[0;32m----> 6\u001b[0;31m \u001b[0mmodel\u001b[0m \u001b[0;34m=\u001b[0m \u001b[0msm\u001b[0m\u001b[0;34m.\u001b[0m\u001b[0mtsa\u001b[0m\u001b[0;34m.\u001b[0m\u001b[0mstatespace\u001b[0m\u001b[0;34m.\u001b[0m\u001b[0mSARIMAX\u001b[0m\u001b[0;34m(\u001b[0m\u001b[0mtrain\u001b[0m\u001b[0;34m[\u001b[0m\u001b[0;34m'MI'\u001b[0m\u001b[0;34m]\u001b[0m\u001b[0;34m,\u001b[0m \u001b[0morder\u001b[0m\u001b[0;34m=\u001b[0m\u001b[0;34m(\u001b[0m\u001b[0;36m1\u001b[0m\u001b[0;34m,\u001b[0m\u001b[0;36m1\u001b[0m\u001b[0;34m,\u001b[0m\u001b[0;36m1\u001b[0m\u001b[0;34m)\u001b[0m\u001b[0;34m,\u001b[0m \u001b[0mseasonal_order\u001b[0m\u001b[0;34m=\u001b[0m\u001b[0;34m(\u001b[0m\u001b[0;36m1\u001b[0m\u001b[0;34m,\u001b[0m\u001b[0;36m1\u001b[0m\u001b[0;34m,\u001b[0m\u001b[0;36m0\u001b[0m\u001b[0;34m,\u001b[0m\u001b[0;36m12\u001b[0m\u001b[0;34m)\u001b[0m\u001b[0;34m,\u001b[0m \u001b[0menforce_invertibility\u001b[0m\u001b[0;34m=\u001b[0m\u001b[0;32mTrue\u001b[0m\u001b[0;34m)\u001b[0m\u001b[0;34m\u001b[0m\u001b[0;34m\u001b[0m\u001b[0m\n\u001b[0m\u001b[1;32m      7\u001b[0m \u001b[0;34m\u001b[0m\u001b[0m\n\u001b[1;32m      8\u001b[0m \u001b[0mresults\u001b[0m \u001b[0;34m=\u001b[0m \u001b[0mmodel\u001b[0m\u001b[0;34m.\u001b[0m\u001b[0mfit\u001b[0m\u001b[0;34m(\u001b[0m\u001b[0;34m)\u001b[0m\u001b[0;34m\u001b[0m\u001b[0;34m\u001b[0m\u001b[0m\n",
      "\u001b[0;31mNameError\u001b[0m: name 'train' is not defined"
     ]
    }
   ],
   "source": [
    "import statsmodels.api as sm\n",
    "\n",
    "sm.tsa.statespace.SARIMAX\n",
    "\n",
    "# Seasonal Arima Modeling, no exogenous variable\n",
    "model = sm.tsa.statespace.SARIMAX(train['MI'], order=(1,1,1), seasonal_order=(1,1,0,12), enforce_invertibility=True)\n",
    "\n",
    "results = model.fit()\n",
    "\n",
    "results.summary()"
   ]
  },
  {
   "cell_type": "code",
   "execution_count": null,
   "id": "fbd8e1a2",
   "metadata": {},
   "outputs": [],
   "source": [
    "\n",
    "# make a plot of model fit\n",
    "# color = 'skyblue'\n",
    "\n",
    "fig = plt.figure(figsize = (16,8))\n",
    "ax1 = fig.add_subplot(111)\n",
    "\n",
    "\n",
    "x = conf_df.index.values\n",
    "\n",
    "\n",
    "upper = conf_df['Upper CI']\n",
    "lower = conf_df['Lower CI']\n",
    "\n",
    "conf_df['MI'].plot(color = 'blue', label = 'Actual')\n",
    "conf_df['Predictions'].plot(color = 'orange',label = 'Predicted' )\n",
    "upper.plot(color = 'grey', label = 'Upper CI')\n",
    "lower.plot(color = 'grey', label = 'Lower CI')\n",
    "\n",
    "# plot the legend for the first plot\n",
    "plt.legend(loc = 'lower left', fontsize = 12)\n",
    "\n",
    "\n",
    "# fill between the conf intervals\n",
    "plt.fill_between(x, lower, upper, color='grey', alpha='0.2')\n",
    "\n",
    "plt.ylim(1000,3500)\n",
    "\n",
    "plt.show()"
   ]
  },
  {
   "cell_type": "code",
   "execution_count": null,
   "id": "6907a4f9",
   "metadata": {},
   "outputs": [],
   "source": []
  }
 ],
 "metadata": {
  "kernelspec": {
   "display_name": "Python 3 (ipykernel)",
   "language": "python",
   "name": "python3"
  },
  "language_info": {
   "codemirror_mode": {
    "name": "ipython",
    "version": 3
   },
   "file_extension": ".py",
   "mimetype": "text/x-python",
   "name": "python",
   "nbconvert_exporter": "python",
   "pygments_lexer": "ipython3",
   "version": "3.9.7"
  }
 },
 "nbformat": 4,
 "nbformat_minor": 5
}
